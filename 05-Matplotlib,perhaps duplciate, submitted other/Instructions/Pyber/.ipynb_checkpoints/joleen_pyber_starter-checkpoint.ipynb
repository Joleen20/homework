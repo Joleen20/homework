{
 "cells": [
  {
   "cell_type": "code",
   "execution_count": 1,
   "metadata": {},
   "outputs": [
    {
     "data": {
      "text/html": [
       "<div>\n",
       "<style scoped>\n",
       "    .dataframe tbody tr th:only-of-type {\n",
       "        vertical-align: middle;\n",
       "    }\n",
       "\n",
       "    .dataframe tbody tr th {\n",
       "        vertical-align: top;\n",
       "    }\n",
       "\n",
       "    .dataframe thead th {\n",
       "        text-align: right;\n",
       "    }\n",
       "</style>\n",
       "<table border=\"1\" class=\"dataframe\">\n",
       "  <thead>\n",
       "    <tr style=\"text-align: right;\">\n",
       "      <th></th>\n",
       "      <th>city</th>\n",
       "      <th>date</th>\n",
       "      <th>fare</th>\n",
       "      <th>ride_id</th>\n",
       "      <th>driver_count</th>\n",
       "      <th>type</th>\n",
       "    </tr>\n",
       "  </thead>\n",
       "  <tbody>\n",
       "    <tr>\n",
       "      <th>0</th>\n",
       "      <td>Lake Jonathanshire</td>\n",
       "      <td>2018-01-14 10:14:22</td>\n",
       "      <td>13.83</td>\n",
       "      <td>5739410935873</td>\n",
       "      <td>5</td>\n",
       "      <td>Urban</td>\n",
       "    </tr>\n",
       "    <tr>\n",
       "      <th>1</th>\n",
       "      <td>South Michelleport</td>\n",
       "      <td>2018-03-04 18:24:09</td>\n",
       "      <td>30.24</td>\n",
       "      <td>2343912425577</td>\n",
       "      <td>72</td>\n",
       "      <td>Urban</td>\n",
       "    </tr>\n",
       "    <tr>\n",
       "      <th>2</th>\n",
       "      <td>Port Samanthamouth</td>\n",
       "      <td>2018-02-24 04:29:00</td>\n",
       "      <td>33.44</td>\n",
       "      <td>2005065760003</td>\n",
       "      <td>57</td>\n",
       "      <td>Urban</td>\n",
       "    </tr>\n",
       "    <tr>\n",
       "      <th>3</th>\n",
       "      <td>Rodneyfort</td>\n",
       "      <td>2018-02-10 23:22:03</td>\n",
       "      <td>23.44</td>\n",
       "      <td>5149245426178</td>\n",
       "      <td>34</td>\n",
       "      <td>Urban</td>\n",
       "    </tr>\n",
       "    <tr>\n",
       "      <th>4</th>\n",
       "      <td>South Jack</td>\n",
       "      <td>2018-03-06 04:28:35</td>\n",
       "      <td>34.58</td>\n",
       "      <td>3908451377344</td>\n",
       "      <td>46</td>\n",
       "      <td>Urban</td>\n",
       "    </tr>\n",
       "  </tbody>\n",
       "</table>\n",
       "</div>"
      ],
      "text/plain": [
       "                 city                 date   fare        ride_id  \\\n",
       "0  Lake Jonathanshire  2018-01-14 10:14:22  13.83  5739410935873   \n",
       "1  South Michelleport  2018-03-04 18:24:09  30.24  2343912425577   \n",
       "2  Port Samanthamouth  2018-02-24 04:29:00  33.44  2005065760003   \n",
       "3          Rodneyfort  2018-02-10 23:22:03  23.44  5149245426178   \n",
       "4          South Jack  2018-03-06 04:28:35  34.58  3908451377344   \n",
       "\n",
       "   driver_count   type  \n",
       "0             5  Urban  \n",
       "1            72  Urban  \n",
       "2            57  Urban  \n",
       "3            34  Urban  \n",
       "4            46  Urban  "
      ]
     },
     "execution_count": 1,
     "metadata": {},
     "output_type": "execute_result"
    }
   ],
   "source": [
    "%matplotlib inline\n",
    "# Dependencies and Setup\n",
    "import matplotlib.pyplot as plt\n",
    "import pandas as pd\n",
    "import numpy as np\n",
    "\n",
    "# File to Load (Remember to change these)\n",
    "city_data_to_load = \"data/city_data.csv\"\n",
    "ride_data_to_load = \"data/ride_data.csv\"\n",
    "\n",
    "# Read the City and Ride Data\n",
    "city_data = pd.read_csv(city_data_to_load)\n",
    "ride_data = pd.read_csv(ride_data_to_load)\n",
    "\n",
    "# Combine the data into a single dataset\n",
    "city_ride_data = pd.merge(ride_data, city_data, how=\"left\", on=[\"city\", \"city\"])\n",
    "\n",
    "# Display the data table for preview\n",
    "city_ride_data.head()"
   ]
  },
  {
   "cell_type": "code",
   "execution_count": 2,
   "metadata": {
    "scrolled": true
   },
   "outputs": [
    {
     "data": {
      "text/html": [
       "<div>\n",
       "<style scoped>\n",
       "    .dataframe tbody tr th:only-of-type {\n",
       "        vertical-align: middle;\n",
       "    }\n",
       "\n",
       "    .dataframe tbody tr th {\n",
       "        vertical-align: top;\n",
       "    }\n",
       "\n",
       "    .dataframe thead th {\n",
       "        text-align: right;\n",
       "    }\n",
       "</style>\n",
       "<table border=\"1\" class=\"dataframe\">\n",
       "  <thead>\n",
       "    <tr style=\"text-align: right;\">\n",
       "      <th></th>\n",
       "      <th>city</th>\n",
       "      <th>date</th>\n",
       "      <th>fare</th>\n",
       "      <th>ride_id</th>\n",
       "      <th>driver_count</th>\n",
       "      <th>type</th>\n",
       "    </tr>\n",
       "  </thead>\n",
       "  <tbody>\n",
       "    <tr>\n",
       "      <th>0</th>\n",
       "      <td>Lake Jonathanshire</td>\n",
       "      <td>2018-01-14 10:14:22</td>\n",
       "      <td>13.83</td>\n",
       "      <td>5739410935873</td>\n",
       "      <td>5</td>\n",
       "      <td>Urban</td>\n",
       "    </tr>\n",
       "    <tr>\n",
       "      <th>1</th>\n",
       "      <td>South Michelleport</td>\n",
       "      <td>2018-03-04 18:24:09</td>\n",
       "      <td>30.24</td>\n",
       "      <td>2343912425577</td>\n",
       "      <td>72</td>\n",
       "      <td>Urban</td>\n",
       "    </tr>\n",
       "    <tr>\n",
       "      <th>2</th>\n",
       "      <td>Port Samanthamouth</td>\n",
       "      <td>2018-02-24 04:29:00</td>\n",
       "      <td>33.44</td>\n",
       "      <td>2005065760003</td>\n",
       "      <td>57</td>\n",
       "      <td>Urban</td>\n",
       "    </tr>\n",
       "    <tr>\n",
       "      <th>3</th>\n",
       "      <td>Rodneyfort</td>\n",
       "      <td>2018-02-10 23:22:03</td>\n",
       "      <td>23.44</td>\n",
       "      <td>5149245426178</td>\n",
       "      <td>34</td>\n",
       "      <td>Urban</td>\n",
       "    </tr>\n",
       "    <tr>\n",
       "      <th>4</th>\n",
       "      <td>South Jack</td>\n",
       "      <td>2018-03-06 04:28:35</td>\n",
       "      <td>34.58</td>\n",
       "      <td>3908451377344</td>\n",
       "      <td>46</td>\n",
       "      <td>Urban</td>\n",
       "    </tr>\n",
       "  </tbody>\n",
       "</table>\n",
       "</div>"
      ],
      "text/plain": [
       "                 city                 date   fare        ride_id  \\\n",
       "0  Lake Jonathanshire  2018-01-14 10:14:22  13.83  5739410935873   \n",
       "1  South Michelleport  2018-03-04 18:24:09  30.24  2343912425577   \n",
       "2  Port Samanthamouth  2018-02-24 04:29:00  33.44  2005065760003   \n",
       "3          Rodneyfort  2018-02-10 23:22:03  23.44  5149245426178   \n",
       "4          South Jack  2018-03-06 04:28:35  34.58  3908451377344   \n",
       "\n",
       "   driver_count   type  \n",
       "0             5  Urban  \n",
       "1            72  Urban  \n",
       "2            57  Urban  \n",
       "3            34  Urban  \n",
       "4            46  Urban  "
      ]
     },
     "execution_count": 2,
     "metadata": {},
     "output_type": "execute_result"
    }
   ],
   "source": [
    "urban_data = city_ride_data[city_ride_data[\"type\"]== \"Urban\"]\n",
    "urban_data.head()"
   ]
  },
  {
   "cell_type": "code",
   "execution_count": 3,
   "metadata": {},
   "outputs": [
    {
     "data": {
      "text/html": [
       "<div>\n",
       "<style scoped>\n",
       "    .dataframe tbody tr th:only-of-type {\n",
       "        vertical-align: middle;\n",
       "    }\n",
       "\n",
       "    .dataframe tbody tr th {\n",
       "        vertical-align: top;\n",
       "    }\n",
       "\n",
       "    .dataframe thead th {\n",
       "        text-align: right;\n",
       "    }\n",
       "</style>\n",
       "<table border=\"1\" class=\"dataframe\">\n",
       "  <thead>\n",
       "    <tr style=\"text-align: right;\">\n",
       "      <th></th>\n",
       "      <th>city</th>\n",
       "      <th>date</th>\n",
       "      <th>fare</th>\n",
       "      <th>ride_id</th>\n",
       "      <th>driver_count</th>\n",
       "      <th>type</th>\n",
       "    </tr>\n",
       "  </thead>\n",
       "  <tbody>\n",
       "    <tr>\n",
       "      <th>1625</th>\n",
       "      <td>Barronchester</td>\n",
       "      <td>2018-01-27 03:08:01</td>\n",
       "      <td>27.79</td>\n",
       "      <td>6653622887913</td>\n",
       "      <td>11</td>\n",
       "      <td>Suburban</td>\n",
       "    </tr>\n",
       "    <tr>\n",
       "      <th>1626</th>\n",
       "      <td>East Kentstad</td>\n",
       "      <td>2018-04-07 19:44:19</td>\n",
       "      <td>18.75</td>\n",
       "      <td>6575961095852</td>\n",
       "      <td>20</td>\n",
       "      <td>Suburban</td>\n",
       "    </tr>\n",
       "    <tr>\n",
       "      <th>1627</th>\n",
       "      <td>Lake Omar</td>\n",
       "      <td>2018-01-17 21:33:35</td>\n",
       "      <td>21.71</td>\n",
       "      <td>966911700371</td>\n",
       "      <td>22</td>\n",
       "      <td>Suburban</td>\n",
       "    </tr>\n",
       "    <tr>\n",
       "      <th>1628</th>\n",
       "      <td>Myersshire</td>\n",
       "      <td>2018-02-27 17:38:39</td>\n",
       "      <td>17.10</td>\n",
       "      <td>5706770909868</td>\n",
       "      <td>19</td>\n",
       "      <td>Suburban</td>\n",
       "    </tr>\n",
       "    <tr>\n",
       "      <th>1629</th>\n",
       "      <td>West Hannah</td>\n",
       "      <td>2018-04-19 01:06:59</td>\n",
       "      <td>37.78</td>\n",
       "      <td>2273047151891</td>\n",
       "      <td>12</td>\n",
       "      <td>Suburban</td>\n",
       "    </tr>\n",
       "  </tbody>\n",
       "</table>\n",
       "</div>"
      ],
      "text/plain": [
       "               city                 date   fare        ride_id  driver_count  \\\n",
       "1625  Barronchester  2018-01-27 03:08:01  27.79  6653622887913            11   \n",
       "1626  East Kentstad  2018-04-07 19:44:19  18.75  6575961095852            20   \n",
       "1627      Lake Omar  2018-01-17 21:33:35  21.71   966911700371            22   \n",
       "1628     Myersshire  2018-02-27 17:38:39  17.10  5706770909868            19   \n",
       "1629    West Hannah  2018-04-19 01:06:59  37.78  2273047151891            12   \n",
       "\n",
       "          type  \n",
       "1625  Suburban  \n",
       "1626  Suburban  \n",
       "1627  Suburban  \n",
       "1628  Suburban  \n",
       "1629  Suburban  "
      ]
     },
     "execution_count": 3,
     "metadata": {},
     "output_type": "execute_result"
    }
   ],
   "source": [
    "suburban_data = city_ride_data[city_ride_data[\"type\"]== \"Suburban\"]\n",
    "suburban_data.head()"
   ]
  },
  {
   "cell_type": "code",
   "execution_count": 4,
   "metadata": {},
   "outputs": [
    {
     "data": {
      "text/html": [
       "<div>\n",
       "<style scoped>\n",
       "    .dataframe tbody tr th:only-of-type {\n",
       "        vertical-align: middle;\n",
       "    }\n",
       "\n",
       "    .dataframe tbody tr th {\n",
       "        vertical-align: top;\n",
       "    }\n",
       "\n",
       "    .dataframe thead th {\n",
       "        text-align: right;\n",
       "    }\n",
       "</style>\n",
       "<table border=\"1\" class=\"dataframe\">\n",
       "  <thead>\n",
       "    <tr style=\"text-align: right;\">\n",
       "      <th></th>\n",
       "      <th>city</th>\n",
       "      <th>date</th>\n",
       "      <th>fare</th>\n",
       "      <th>ride_id</th>\n",
       "      <th>driver_count</th>\n",
       "      <th>type</th>\n",
       "    </tr>\n",
       "  </thead>\n",
       "  <tbody>\n",
       "    <tr>\n",
       "      <th>2250</th>\n",
       "      <td>Randallchester</td>\n",
       "      <td>2018-04-13 11:13:31</td>\n",
       "      <td>43.22</td>\n",
       "      <td>1076079536213</td>\n",
       "      <td>9</td>\n",
       "      <td>Rural</td>\n",
       "    </tr>\n",
       "    <tr>\n",
       "      <th>2251</th>\n",
       "      <td>North Holly</td>\n",
       "      <td>2018-02-02 14:54:00</td>\n",
       "      <td>12.42</td>\n",
       "      <td>1985256326182</td>\n",
       "      <td>8</td>\n",
       "      <td>Rural</td>\n",
       "    </tr>\n",
       "    <tr>\n",
       "      <th>2252</th>\n",
       "      <td>Michaelberg</td>\n",
       "      <td>2018-03-27 18:27:34</td>\n",
       "      <td>54.85</td>\n",
       "      <td>4421836952718</td>\n",
       "      <td>6</td>\n",
       "      <td>Rural</td>\n",
       "    </tr>\n",
       "    <tr>\n",
       "      <th>2253</th>\n",
       "      <td>Lake Latoyabury</td>\n",
       "      <td>2018-02-23 21:12:24</td>\n",
       "      <td>47.90</td>\n",
       "      <td>3269652929887</td>\n",
       "      <td>2</td>\n",
       "      <td>Rural</td>\n",
       "    </tr>\n",
       "    <tr>\n",
       "      <th>2254</th>\n",
       "      <td>Lake Latoyabury</td>\n",
       "      <td>2018-05-06 08:57:56</td>\n",
       "      <td>51.80</td>\n",
       "      <td>4018025271936</td>\n",
       "      <td>2</td>\n",
       "      <td>Rural</td>\n",
       "    </tr>\n",
       "  </tbody>\n",
       "</table>\n",
       "</div>"
      ],
      "text/plain": [
       "                 city                 date   fare        ride_id  \\\n",
       "2250   Randallchester  2018-04-13 11:13:31  43.22  1076079536213   \n",
       "2251      North Holly  2018-02-02 14:54:00  12.42  1985256326182   \n",
       "2252      Michaelberg  2018-03-27 18:27:34  54.85  4421836952718   \n",
       "2253  Lake Latoyabury  2018-02-23 21:12:24  47.90  3269652929887   \n",
       "2254  Lake Latoyabury  2018-05-06 08:57:56  51.80  4018025271936   \n",
       "\n",
       "      driver_count   type  \n",
       "2250             9  Rural  \n",
       "2251             8  Rural  \n",
       "2252             6  Rural  \n",
       "2253             2  Rural  \n",
       "2254             2  Rural  "
      ]
     },
     "execution_count": 4,
     "metadata": {},
     "output_type": "execute_result"
    }
   ],
   "source": [
    "rural_data = city_ride_data[city_ride_data[\"type\"]== \"Rural\"]\n",
    "rural_data.head()"
   ]
  },
  {
   "cell_type": "code",
   "execution_count": 5,
   "metadata": {},
   "outputs": [],
   "source": [
    "    #Your objective is to build a [Bubble Plot](https://en.wikipedia.org/wiki/Bubble_chart) that showcases the relationship between four key variables:\n",
    "\n",
    "    #* Average Fare ($) Per City\n",
    "    #* Total Number of Rides Per City\n",
    "    #* Total Number of Drivers Per City\n",
    "    #* City Type (Urban, Suburban, Rural)"
   ]
  },
  {
   "cell_type": "code",
   "execution_count": 6,
   "metadata": {},
   "outputs": [
    {
     "name": "stdout",
     "output_type": "stream",
     "text": [
      "city\n",
      "Amandaburgh             18\n",
      "Barajasview             22\n",
      "Carriemouth             27\n",
      "Christopherfurt         27\n",
      "Deanville               19\n",
      "East Kaylahaven         29\n",
      "Erikaland               12\n",
      "Grahamburgh             25\n",
      "Huntermouth             24\n",
      "Hurleymouth             28\n",
      "Jerryton                25\n",
      "Johnton                 21\n",
      "Joneschester            25\n",
      "Justinberg              30\n",
      "Karenberg               17\n",
      "Karenside               28\n",
      "Lake Danielberg         26\n",
      "Lake Jonathanshire      24\n",
      "Lake Scottton           24\n",
      "Leahton                 21\n",
      "Liumouth                33\n",
      "Loganberg               28\n",
      "Martinezhaven           24\n",
      "New Jacobville          18\n",
      "New Kimberlyborough     30\n",
      "New Paulton             19\n",
      "New Paulville           22\n",
      "North Barbara           22\n",
      "North Jasmine           30\n",
      "North Jason             35\n",
      "                        ..\n",
      "Port Johnbury           22\n",
      "Port Samanthamouth      25\n",
      "Raymondhaven            25\n",
      "Reynoldsfurt            19\n",
      "Richardfort             28\n",
      "Roberthaven             24\n",
      "Robertport              20\n",
      "Rodneyfort              23\n",
      "Rogerston               22\n",
      "Royland                 30\n",
      "Simpsonburgh            24\n",
      "South Evanton           31\n",
      "South Jack              19\n",
      "South Karenland         38\n",
      "South Latoya            19\n",
      "South Michelleport      31\n",
      "South Phillip           31\n",
      "Valentineton            22\n",
      "West Angela             39\n",
      "West Anthony            30\n",
      "West Christopherberg    26\n",
      "West Ericstad           18\n",
      "West Gabriel            23\n",
      "West Heidi              28\n",
      "West Josephberg         26\n",
      "West Patrickchester     16\n",
      "West Robert             31\n",
      "West Samuelburgh        25\n",
      "Williamsstad            23\n",
      "Williamsview            20\n",
      "Name: ride_id, Length: 66, dtype: int64\n"
     ]
    }
   ],
   "source": [
    "urban_ride_count = urban_data.groupby([\"city\"]).count()[\"ride_id\"]\n",
    "print(urban_ride_count)"
   ]
  },
  {
   "cell_type": "code",
   "execution_count": 7,
   "metadata": {},
   "outputs": [
    {
     "name": "stdout",
     "output_type": "stream",
     "text": [
      "city\n",
      "Barronchester         16\n",
      "Bethanyland           18\n",
      "Brandonfort           19\n",
      "Colemanland           22\n",
      "Davidfurt             17\n",
      "East Aaronbury         9\n",
      "East Danielview       17\n",
      "East Kentstad         13\n",
      "East Marymouth        27\n",
      "Grayville             15\n",
      "Josephside            27\n",
      "Lake Ann              12\n",
      "Lake Omar             14\n",
      "Lake Robertside       25\n",
      "Lake Scott            18\n",
      "Lewishaven            12\n",
      "Lewisland             17\n",
      "Mezachester           17\n",
      "Myersshire            16\n",
      "New Olivia            17\n",
      "New Raymond           22\n",
      "New Shannonberg       17\n",
      "Nicolechester         19\n",
      "North Jeffrey         13\n",
      "North Richardhaven    14\n",
      "North Timothy         15\n",
      "Port Shane            19\n",
      "Rodriguezview         15\n",
      "Sotoville             11\n",
      "South Brenda          24\n",
      "South Teresa          22\n",
      "Veronicaberg          17\n",
      "Victoriaport          14\n",
      "West Hannah           21\n",
      "West Kimmouth         20\n",
      "Williamsonville       14\n",
      "Name: ride_id, dtype: int64\n"
     ]
    }
   ],
   "source": [
    "suburban_ride_count = suburban_data.groupby([\"city\"]).count()[\"ride_id\"]\n",
    "print(suburban_ride_count)"
   ]
  },
  {
   "cell_type": "code",
   "execution_count": 8,
   "metadata": {},
   "outputs": [
    {
     "name": "stdout",
     "output_type": "stream",
     "text": [
      "city\n",
      "Bradshawfurt         10\n",
      "Garzaport             3\n",
      "Harringtonfort        6\n",
      "Jessicaport           6\n",
      "Lake Jamie            6\n",
      "Lake Latoyabury      11\n",
      "Michaelberg          12\n",
      "New Ryantown          6\n",
      "Newtonview            4\n",
      "North Holly           9\n",
      "North Jaime           8\n",
      "Penaborough           5\n",
      "Randallchester        5\n",
      "South Jennifer        7\n",
      "South Marychester     8\n",
      "South Saramouth       4\n",
      "Taylorhaven           6\n",
      "West Heather          9\n",
      "Name: ride_id, dtype: int64\n"
     ]
    }
   ],
   "source": [
    "rural_ride_count = rural_data.groupby([\"city\"]).count()[\"ride_id\"]\n",
    "print(rural_ride_count)"
   ]
  },
  {
   "cell_type": "code",
   "execution_count": 9,
   "metadata": {},
   "outputs": [
    {
     "name": "stdout",
     "output_type": "stream",
     "text": [
      "city\n",
      "Amandaburgh             24.641667\n",
      "Barajasview             25.332273\n",
      "Carriemouth             28.314444\n",
      "Christopherfurt         24.501852\n",
      "Deanville               25.842632\n",
      "East Kaylahaven         23.757931\n",
      "Erikaland               24.906667\n",
      "Grahamburgh             25.221200\n",
      "Huntermouth             28.993750\n",
      "Hurleymouth             25.891429\n",
      "Jerryton                25.649200\n",
      "Johnton                 26.785714\n",
      "Joneschester            22.289600\n",
      "Justinberg              23.694333\n",
      "Karenberg               26.340000\n",
      "Karenside               27.453571\n",
      "Lake Danielberg         24.844231\n",
      "Lake Jonathanshire      23.425833\n",
      "Lake Scottton           23.809167\n",
      "Leahton                 21.243810\n",
      "Liumouth                26.150000\n",
      "Loganberg               25.292500\n",
      "Martinezhaven           22.651250\n",
      "New Jacobville          26.765556\n",
      "New Kimberlyborough     22.589000\n",
      "New Paulton             27.820000\n",
      "New Paulville           21.675909\n",
      "North Barbara           23.494091\n",
      "North Jasmine           25.205333\n",
      "North Jason             22.743714\n",
      "                          ...    \n",
      "Port Johnbury           23.006364\n",
      "Port Samanthamouth      25.642800\n",
      "Raymondhaven            21.480400\n",
      "Reynoldsfurt            21.919474\n",
      "Richardfort             22.373214\n",
      "Roberthaven             23.729167\n",
      "Robertport              23.060500\n",
      "Rodneyfort              28.616957\n",
      "Rogerston               22.097727\n",
      "Royland                 20.570667\n",
      "Simpsonburgh            23.355833\n",
      "South Evanton           26.726129\n",
      "South Jack              22.965263\n",
      "South Karenland         26.535526\n",
      "South Latoya            20.093158\n",
      "South Michelleport      24.451613\n",
      "South Phillip           28.571290\n",
      "Valentineton            24.636364\n",
      "West Angela             25.990000\n",
      "West Anthony            24.736667\n",
      "West Christopherberg    24.421154\n",
      "West Ericstad           22.347222\n",
      "West Gabriel            20.346087\n",
      "West Heidi              23.133929\n",
      "West Josephberg         21.720385\n",
      "West Patrickchester     28.233125\n",
      "West Robert             25.123871\n",
      "West Samuelburgh        21.767600\n",
      "Williamsstad            24.362174\n",
      "Williamsview            26.599000\n",
      "Name: fare, Length: 66, dtype: float64\n"
     ]
    }
   ],
   "source": [
    "average_fare_urban = urban_data.groupby([\"city\"]).mean()[\"fare\"]\n",
    "print(average_fare_urban)"
   ]
  },
  {
   "cell_type": "code",
   "execution_count": 10,
   "metadata": {},
   "outputs": [
    {
     "name": "stdout",
     "output_type": "stream",
     "text": [
      "city\n",
      "Barronchester         36.422500\n",
      "Bethanyland           32.956111\n",
      "Brandonfort           35.437368\n",
      "Colemanland           30.894545\n",
      "Davidfurt             31.995882\n",
      "East Aaronbury        25.661111\n",
      "East Danielview       31.560588\n",
      "East Kentstad         29.823077\n",
      "East Marymouth        30.835185\n",
      "Grayville             27.763333\n",
      "Josephside            32.858148\n",
      "Lake Ann              30.890000\n",
      "Lake Omar             28.075000\n",
      "Lake Robertside       31.262000\n",
      "Lake Scott            31.886111\n",
      "Lewishaven            25.241667\n",
      "Lewisland             34.614118\n",
      "Mezachester           30.760000\n",
      "Myersshire            30.203125\n",
      "New Olivia            34.054118\n",
      "New Raymond           27.961818\n",
      "New Shannonberg       28.378235\n",
      "Nicolechester         30.909474\n",
      "North Jeffrey         29.242308\n",
      "North Richardhaven    24.704286\n",
      "North Timothy         31.262000\n",
      "Port Shane            31.077895\n",
      "Rodriguezview         30.745333\n",
      "Sotoville             31.980000\n",
      "South Brenda          33.964583\n",
      "South Teresa          31.220455\n",
      "Veronicaberg          32.828235\n",
      "Victoriaport          27.780000\n",
      "West Hannah           29.547619\n",
      "West Kimmouth         29.871500\n",
      "Williamsonville       31.875000\n",
      "Name: fare, dtype: float64\n"
     ]
    }
   ],
   "source": [
    "average_fare_suburban = suburban_data.groupby([\"city\"]).mean()[\"fare\"]\n",
    "print(average_fare_suburban)"
   ]
  },
  {
   "cell_type": "code",
   "execution_count": 11,
   "metadata": {},
   "outputs": [
    {
     "name": "stdout",
     "output_type": "stream",
     "text": [
      "city\n",
      "Bradshawfurt         40.064000\n",
      "Garzaport            24.123333\n",
      "Harringtonfort       33.470000\n",
      "Jessicaport          36.013333\n",
      "Lake Jamie           34.358333\n",
      "Lake Latoyabury      26.061818\n",
      "Michaelberg          34.997500\n",
      "New Ryantown         43.278333\n",
      "Newtonview           36.745000\n",
      "North Holly          29.130000\n",
      "North Jaime          30.802500\n",
      "Penaborough          35.246000\n",
      "Randallchester       29.742000\n",
      "South Jennifer       35.264286\n",
      "South Marychester    41.870000\n",
      "South Saramouth      36.160000\n",
      "Taylorhaven          42.263333\n",
      "West Heather         33.890000\n",
      "Name: fare, dtype: float64\n"
     ]
    }
   ],
   "source": [
    "average_fare_rural = rural_data.groupby([\"city\"]).mean()[\"fare\"]\n",
    "print(average_fare_rural)\n"
   ]
  },
  {
   "cell_type": "code",
   "execution_count": 12,
   "metadata": {},
   "outputs": [
    {
     "name": "stdout",
     "output_type": "stream",
     "text": [
      "city\n",
      "Amandaburgh             12.0\n",
      "Barajasview             26.0\n",
      "Carriemouth             52.0\n",
      "Christopherfurt         41.0\n",
      "Deanville               49.0\n",
      "East Kaylahaven         65.0\n",
      "Erikaland               37.0\n",
      "Grahamburgh             61.0\n",
      "Huntermouth             37.0\n",
      "Hurleymouth             36.0\n",
      "Jerryton                64.0\n",
      "Johnton                 27.0\n",
      "Joneschester            39.0\n",
      "Justinberg              39.0\n",
      "Karenberg               22.0\n",
      "Karenside                5.0\n",
      "Lake Danielberg         19.0\n",
      "Lake Jonathanshire       5.0\n",
      "Lake Scottton           58.0\n",
      "Leahton                 17.0\n",
      "Liumouth                69.0\n",
      "Loganberg               23.0\n",
      "Martinezhaven           25.0\n",
      "New Jacobville          50.0\n",
      "New Kimberlyborough     33.0\n",
      "New Paulton             44.0\n",
      "New Paulville           44.0\n",
      "North Barbara           18.0\n",
      "North Jasmine           33.0\n",
      "North Jason              6.0\n",
      "                        ... \n",
      "Port Johnbury            3.0\n",
      "Port Samanthamouth      57.0\n",
      "Raymondhaven            11.0\n",
      "Reynoldsfurt            67.0\n",
      "Richardfort             38.0\n",
      "Roberthaven             47.0\n",
      "Robertport              12.0\n",
      "Rodneyfort              34.0\n",
      "Rogerston               25.0\n",
      "Royland                 64.0\n",
      "Simpsonburgh            21.0\n",
      "South Evanton           11.0\n",
      "South Jack              46.0\n",
      "South Karenland          4.0\n",
      "South Latoya            10.0\n",
      "South Michelleport      72.0\n",
      "South Phillip           38.0\n",
      "Valentineton            45.0\n",
      "West Angela             48.0\n",
      "West Anthony            70.0\n",
      "West Christopherberg    32.0\n",
      "West Ericstad           25.0\n",
      "West Gabriel            57.0\n",
      "West Heidi              28.0\n",
      "West Josephberg         45.0\n",
      "West Patrickchester     25.0\n",
      "West Robert             39.0\n",
      "West Samuelburgh        73.0\n",
      "Williamsstad            59.0\n",
      "Williamsview            46.0\n",
      "Name: driver_count, Length: 66, dtype: float64\n"
     ]
    }
   ],
   "source": [
    "total_drivers_urban = urban_data.groupby([\"city\"]).mean()[\"driver_count\"]\n",
    "print(total_drivers_urban)"
   ]
  },
  {
   "cell_type": "code",
   "execution_count": 13,
   "metadata": {},
   "outputs": [
    {
     "name": "stdout",
     "output_type": "stream",
     "text": [
      "city\n",
      "Barronchester         11.0\n",
      "Bethanyland           22.0\n",
      "Brandonfort           10.0\n",
      "Colemanland           23.0\n",
      "Davidfurt             23.0\n",
      "East Aaronbury         7.0\n",
      "East Danielview       22.0\n",
      "East Kentstad         20.0\n",
      "East Marymouth         5.0\n",
      "Grayville              2.0\n",
      "Josephside            25.0\n",
      "Lake Ann               3.0\n",
      "Lake Omar             22.0\n",
      "Lake Robertside        4.0\n",
      "Lake Scott            23.0\n",
      "Lewishaven            23.0\n",
      "Lewisland              4.0\n",
      "Mezachester           14.0\n",
      "Myersshire            19.0\n",
      "New Olivia            20.0\n",
      "New Raymond           17.0\n",
      "New Shannonberg       20.0\n",
      "Nicolechester         19.0\n",
      "North Jeffrey         11.0\n",
      "North Richardhaven     1.0\n",
      "North Timothy          7.0\n",
      "Port Shane             7.0\n",
      "Rodriguezview         20.0\n",
      "Sotoville             10.0\n",
      "South Brenda           1.0\n",
      "South Teresa          21.0\n",
      "Veronicaberg          20.0\n",
      "Victoriaport          16.0\n",
      "West Hannah           12.0\n",
      "West Kimmouth          4.0\n",
      "Williamsonville        2.0\n",
      "Name: driver_count, dtype: float64\n"
     ]
    }
   ],
   "source": [
    "total_drivers_suburban = suburban_data.groupby([\"city\"]).mean()[\"driver_count\"]\n",
    "print(total_drivers_suburban)"
   ]
  },
  {
   "cell_type": "code",
   "execution_count": 14,
   "metadata": {},
   "outputs": [
    {
     "name": "stdout",
     "output_type": "stream",
     "text": [
      "city\n",
      "Bradshawfurt         7.0\n",
      "Garzaport            7.0\n",
      "Harringtonfort       4.0\n",
      "Jessicaport          1.0\n",
      "Lake Jamie           4.0\n",
      "Lake Latoyabury      2.0\n",
      "Michaelberg          6.0\n",
      "New Ryantown         2.0\n",
      "Newtonview           1.0\n",
      "North Holly          8.0\n",
      "North Jaime          1.0\n",
      "Penaborough          6.0\n",
      "Randallchester       9.0\n",
      "South Jennifer       7.0\n",
      "South Marychester    1.0\n",
      "South Saramouth      7.0\n",
      "Taylorhaven          1.0\n",
      "West Heather         4.0\n",
      "Name: driver_count, dtype: float64\n"
     ]
    }
   ],
   "source": [
    "total_drivers_rural = rural_data.groupby([\"city\"]).mean()[\"driver_count\"]\n",
    "print(total_drivers_rural)"
   ]
  },
  {
   "cell_type": "code",
   "execution_count": 15,
   "metadata": {},
   "outputs": [],
   "source": [
    "#repeat for suburban and rural, change color"
   ]
  },
  {
   "cell_type": "code",
   "execution_count": 24,
   "metadata": {},
   "outputs": [
    {
     "data": {
      "image/png": "[encoded data removed]",
      "text/plain": [
       "<Figure size 432x288 with 1 Axes>"
      ]
     },
     "metadata": {
      "needs_background": "light"
     },
     "output_type": "display_data"
    },
    {
     "data": {
      "text/plain": [
       "<Figure size 432x288 with 0 Axes>"
      ]
     },
     "metadata": {},
     "output_type": "display_data"
    }
   ],
   "source": [
    "plt.scatter(urban_ride_count,\n",
    "           average_fare_urban,\n",
    "           s=12*total_drivers_urban, c=\"coral\",\n",
    "           edgecolor=\"black\", linewidths=1, marker=\"o\",\n",
    "           alpha=0.8, label=\"Urban\")\n",
    "plt.legend(loc='upper right')\n",
    "plt.text(43,20,\"Circle size is the total drivers per each city type\")\n",
    "plt.show()\n",
    "plt.savefig(\"../Images/City_Total_Driver.png\")\n"
   ]
  },
  {
   "cell_type": "code",
   "execution_count": 25,
   "metadata": {},
   "outputs": [
    {
     "data": {
      "image/png": "[encoded data removed]",
      "text/plain": [
       "<Figure size 432x288 with 1 Axes>"
      ]
     },
     "metadata": {
      "needs_background": "light"
     },
     "output_type": "display_data"
    },
    {
     "data": {
      "text/plain": [
       "<Figure size 432x288 with 0 Axes>"
      ]
     },
     "metadata": {},
     "output_type": "display_data"
    }
   ],
   "source": [
    "plt.scatter(suburban_ride_count,\n",
    "           average_fare_suburban,\n",
    "           s=12*total_drivers_suburban, c=\"coral\",\n",
    "           edgecolor=\"black\", linewidths=1, marker=\"o\",\n",
    "           alpha=0.8, label=\"Suburban\")\n",
    "plt.legend(loc='upper right')\n",
    "plt.text(43,20,\"Circle size is the total drivers per each city type\")\n",
    "plt.show()\n",
    "plt.savefig(\"../Images/Suburban_Total_Driver.png\")\n"
   ]
  },
  {
   "cell_type": "code",
   "execution_count": 26,
   "metadata": {},
   "outputs": [
    {
     "data": {
      "image/png": "[encoded data removed]",
      "text/plain": [
       "<Figure size 432x288 with 1 Axes>"
      ]
     },
     "metadata": {
      "needs_background": "light"
     },
     "output_type": "display_data"
    },
    {
     "data": {
      "text/plain": [
       "<Figure size 432x288 with 0 Axes>"
      ]
     },
     "metadata": {},
     "output_type": "display_data"
    }
   ],
   "source": [
    "plt.scatter(rural_ride_count,\n",
    "           average_fare_rural,\n",
    "           s=12*total_drivers_rural, c=\"coral\",\n",
    "           edgecolor=\"black\", linewidths=1, marker=\"o\",\n",
    "           alpha=0.8, label=\"Rural\")\n",
    "plt.legend(loc='upper right')\n",
    "plt.text(15,20,\"Circle size is the total drivers per each city type\")\n",
    "plt.savefig(\"../Images/Rural_Total_Driver.png\")\n",
    "plt.show()\n",
    "plt.savefig(\"../Images/Rural_Total_Driver.png\")"
   ]
  },
  {
   "cell_type": "markdown",
   "metadata": {},
   "source": [
    "## Bubble Plot of Ride Sharing Data"
   ]
  },
  {
   "cell_type": "code",
   "execution_count": null,
   "metadata": {},
   "outputs": [],
   "source": [
    "# Obtain the x and y coordinates for each of the three city types\n",
    "\n",
    "# Build the scatter plots for each city types\n",
    "\n",
    "# Incorporate the other graph properties\n",
    "\n",
    "# Create a legend\n",
    "\n",
    "# Incorporate a text label regarding circle size\n",
    "\n",
    "# Save Figure\n"
   ]
  },
  {
   "cell_type": "code",
   "execution_count": 20,
   "metadata": {},
   "outputs": [],
   "source": [
    "# Show plot\n",
    "plt.show()"
   ]
  },
  {
   "cell_type": "markdown",
   "metadata": {},
   "source": [
    "## Total Fares by City Type"
   ]
  },
  {
   "cell_type": "code",
   "execution_count": 37,
   "metadata": {},
   "outputs": [
    {
     "name": "stdout",
     "output_type": "stream",
     "text": [
      "type\n",
      "Rural        4327.93\n",
      "Suburban    19356.33\n",
      "Urban       39854.38\n",
      "Name: fare, dtype: float64\n"
     ]
    },
    {
     "data": {
      "image/png": "[encoded data removed]",
      "text/plain": [
       "<Figure size 432x288 with 1 Axes>"
      ]
     },
     "metadata": {},
     "output_type": "display_data"
    },
    {
     "data": {
      "text/plain": [
       "<Figure size 432x288 with 0 Axes>"
      ]
     },
     "metadata": {},
     "output_type": "display_data"
    }
   ],
   "source": [
    "# Calculate Type Percents\n",
    "percentage_of_type = city_ride_data.groupby([\"type\"]).sum()[\"fare\"]\n",
    "print(percentage_of_type)\n",
    "\n",
    "# Build Pie Chart\n",
    "explode = (0, 0, 0.1)\n",
    "labels=(\"Rural\",\"Suburban\",\"Urban\")\n",
    "colors=(\"Gold\",\"Powderblue\",\"Blue\")\n",
    "plt.pie(percentage_of_type, explode=explode, labels=labels, colors=colors,\n",
    "       autopct=\"%1.2f%%\", shadow=True, startangle=140)\n",
    "plt.show()\n",
    "plt.savefig(\"../Images/Farepercentage\")\n",
    "\n",
    "# Save Figure\n"
   ]
  },
  {
   "cell_type": "code",
   "execution_count": null,
   "metadata": {},
   "outputs": [],
   "source": [
    "# Show Figure\n",
    "plt.show()"
   ]
  },
  {
   "cell_type": "markdown",
   "metadata": {},
   "source": [
    "## Total Rides by City Type"
   ]
  },
  {
   "cell_type": "code",
   "execution_count": 39,
   "metadata": {},
   "outputs": [
    {
     "name": "stdout",
     "output_type": "stream",
     "text": [
      "type\n",
      "Rural        580968240341287\n",
      "Suburban    3106884522576766\n",
      "Urban       7919412664056093\n",
      "Name: ride_id, dtype: int64\n"
     ]
    },
    {
     "data": {
      "image/png": "[encoded data removed]",
      "text/plain": [
       "<Figure size 432x288 with 1 Axes>"
      ]
     },
     "metadata": {},
     "output_type": "display_data"
    },
    {
     "data": {
      "text/plain": [
       "<Figure size 432x288 with 0 Axes>"
      ]
     },
     "metadata": {},
     "output_type": "display_data"
    }
   ],
   "source": [
    "# Calculate Ride Percents\n",
    "\n",
    "percentage_of_ride = city_ride_data.groupby([\"type\"]).sum()[\"ride_id\"]\n",
    "print(percentage_of_ride)\n",
    "\n",
    "# Build Pie Chart\n",
    "explode = (0, 0, 0.1)\n",
    "labels=(\"Rural\",\"Suburban\",\"Urban\")\n",
    "colors=(\"Gold\",\"powderblue\",\"Blue\")\n",
    "plt.pie(percentage_of_ride, explode=explode, labels=labels, colors=colors,\n",
    "       autopct=\"%1.2f%%\", shadow=True, startangle=140)\n",
    "plt.show()\n",
    "plt.savefig(\"../Images/Ridedatapercentage\")\n",
    "\n",
    "\n",
    "# Build Pie Chart\n",
    "\n",
    "# Save Figure\n"
   ]
  },
  {
   "cell_type": "code",
   "execution_count": null,
   "metadata": {},
   "outputs": [],
   "source": [
    "# Show Figure\n",
    "plt.show()"
   ]
  },
  {
   "cell_type": "markdown",
   "metadata": {},
   "source": [
    "## Total Drivers by City Type"
   ]
  },
  {
   "cell_type": "code",
   "execution_count": 38,
   "metadata": {},
   "outputs": [
    {
     "name": "stdout",
     "output_type": "stream",
     "text": [
      "type\n",
      "Rural         537\n",
      "Suburban     8570\n",
      "Urban       59602\n",
      "Name: driver_count, dtype: int64\n"
     ]
    },
    {
     "data": {
      "image/png": "[encoded data removed]",
      "text/plain": [
       "<Figure size 432x288 with 1 Axes>"
      ]
     },
     "metadata": {},
     "output_type": "display_data"
    },
    {
     "data": {
      "text/plain": [
       "<Figure size 432x288 with 0 Axes>"
      ]
     },
     "metadata": {},
     "output_type": "display_data"
    }
   ],
   "source": [
    "# Calculate Driver Percents\n",
    "\n",
    "percentage_of_drivers = city_ride_data.groupby([\"type\"]).sum()[\"driver_count\"]\n",
    "print(percentage_of_drivers)\n",
    "\n",
    "# Build Pie Chart\n",
    "explode = (0, 0, 0.1)\n",
    "labels=(\"Rural\",\"Suburban\",\"Urban\")\n",
    "colors=(\"Gold\",\"powderblue\",\"Blue\")\n",
    "plt.pie(percentage_of_drivers, explode=explode, labels=labels, colors=colors,\n",
    "       autopct=\"%1.2f%%\", shadow=True, startangle=140)\n",
    "plt.show()\n",
    "plt.savefig(\"../Images/Driversdatapercentage\")\n",
    "\n",
    "# Build Pie Charts\n",
    "\n",
    "# Save Figure\n"
   ]
  },
  {
   "cell_type": "code",
   "execution_count": null,
   "metadata": {
    "scrolled": true
   },
   "outputs": [],
   "source": [
    "# Show Figure\n",
    "plt.show()"
   ]
  },
  {
   "cell_type": "code",
   "execution_count": null,
   "metadata": {},
   "outputs": [],
   "source": []
  }
 ],
 "metadata": {
  "anaconda-cloud": {},
  "kernelspec": {
   "display_name": "Python 3",
   "language": "python",
   "name": "python3"
  },
  "language_info": {
   "codemirror_mode": {
    "name": "ipython",
    "version": 3
   },
   "file_extension": ".py",
   "mimetype": "text/x-python",
   "name": "python",
   "nbconvert_exporter": "python",
   "pygments_lexer": "ipython3",
   "version": "3.7.2"
  }
 },
 "nbformat": 4,
 "nbformat_minor": 2
}
